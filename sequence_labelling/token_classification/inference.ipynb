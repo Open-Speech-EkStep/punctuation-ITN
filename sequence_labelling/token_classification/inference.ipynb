{
 "cells": [
  {
   "cell_type": "code",
   "execution_count": 1,
   "id": "dd3d3640",
   "metadata": {},
   "outputs": [
    {
     "name": "stderr",
     "output_type": "stream",
     "text": [
      "Using TensorFlow backend.\n"
     ]
    }
   ],
   "source": [
    "from dataset_loader import PunctuationDataset\n",
    "import pandas as pd\n",
    "import torch\n",
    "import training_params\n",
    "from tqdm import tqdm\n",
    "from seqeval.metrics import f1_score, accuracy_score\n",
    "from sklearn import metrics\n",
    "from transformers import AlbertForTokenClassification, AdamW, get_linear_schedule_with_warmup\n",
    "import numpy as np"
   ]
  },
  {
   "cell_type": "code",
   "execution_count": 2,
   "id": "4f7962d2",
   "metadata": {},
   "outputs": [],
   "source": [
    "def process_data(data_csv):\n",
    "    df = pd.read_csv(data_csv)\n",
    "    sentences = df.groupby(\"sentence\")[\"word\"].apply(list).values\n",
    "    labels = df.groupby(\"sentence\")[\"label\"].apply(list).values\n",
    "    tag_values = list(set(df[\"label\"].values))\n",
    "    tag_values.append(\"PAD\")\n",
    "    encoder = {t: i for i, t in enumerate(tag_values)}\n",
    "    return sentences, labels, encoder, tag_values"
   ]
  },
  {
   "cell_type": "code",
   "execution_count": 3,
   "id": "8b7f72b7",
   "metadata": {},
   "outputs": [
    {
     "name": "stderr",
     "output_type": "stream",
     "text": [
      "Some weights of the model checkpoint at ai4bharat/indic-bert were not used when initializing AlbertForTokenClassification: ['predictions.bias', 'predictions.LayerNorm.weight', 'predictions.LayerNorm.bias', 'predictions.dense.weight', 'predictions.dense.bias', 'predictions.decoder.weight', 'predictions.decoder.bias', 'sop_classifier.classifier.weight', 'sop_classifier.classifier.bias']\n",
      "- This IS expected if you are initializing AlbertForTokenClassification from the checkpoint of a model trained on another task or with another architecture (e.g. initializing a BertForSequenceClassification model from a BertForPreTraining model).\n",
      "- This IS NOT expected if you are initializing AlbertForTokenClassification from the checkpoint of a model that you expect to be exactly identical (initializing a BertForSequenceClassification model from a BertForSequenceClassification model).\n",
      "Some weights of AlbertForTokenClassification were not initialized from the model checkpoint at ai4bharat/indic-bert and are newly initialized: ['classifier.weight', 'classifier.bias']\n",
      "You should probably TRAIN this model on a down-stream task to be able to use it for predictions and inference.\n"
     ]
    }
   ],
   "source": [
    "train_sentences, train_labels, train_encoder, tag_values = process_data(training_params.TRAIN_DATA)\n",
    "valid_sentences, valid_labels, _, _ = process_data(training_params.VALID_DATA)\n",
    "\n",
    "train_dataset = PunctuationDataset(texts=train_sentences, labels=train_labels,\n",
    "                                   tag2idx=train_encoder)\n",
    "valid_dataset = PunctuationDataset(texts=valid_sentences, labels=valid_labels,\n",
    "                                   tag2idx=train_encoder)\n",
    "\n",
    "train_data_loader = torch.utils.data.DataLoader(train_dataset, batch_size=training_params.BATCH_SIZE, num_workers=4)\n",
    "valid_data_loader = torch.utils.data.DataLoader(train_dataset, batch_size=training_params.BATCH_SIZE, num_workers=4)\n",
    "\n",
    "model = AlbertForTokenClassification.from_pretrained('ai4bharat/indic-bert',\n",
    "                                                     num_labels=len(train_encoder),\n",
    "                                                     output_attentions=False,\n",
    "                                                     output_hidden_states=False)"
   ]
  },
  {
   "cell_type": "code",
   "execution_count": 12,
   "id": "17880f56",
   "metadata": {},
   "outputs": [],
   "source": [
    "eg = next(iter(train_data_loader))"
   ]
  },
  {
   "cell_type": "code",
   "execution_count": 14,
   "id": "a88a2bad",
   "metadata": {},
   "outputs": [],
   "source": [
    "b_input_ids, b_input_mask, b_labels = eg['ids'], eg['mask'], eg['target_tag']"
   ]
  },
  {
   "cell_type": "code",
   "execution_count": 15,
   "id": "21cf4a66",
   "metadata": {},
   "outputs": [],
   "source": [
    "outputs = model(b_input_ids, token_type_ids=None, attention_mask=b_input_mask, labels=b_labels)"
   ]
  },
  {
   "cell_type": "code",
   "execution_count": 21,
   "id": "72e2888a",
   "metadata": {},
   "outputs": [],
   "source": [
    "logits = outputs[1].detach().cpu().numpy()\n",
    "label_ids = b_labels.to('cpu').numpy()"
   ]
  },
  {
   "cell_type": "code",
   "execution_count": 22,
   "id": "0260148e",
   "metadata": {},
   "outputs": [
    {
     "data": {
      "text/plain": [
       "(2, 128, 6)"
      ]
     },
     "execution_count": 22,
     "metadata": {},
     "output_type": "execute_result"
    }
   ],
   "source": [
    "logits.shape"
   ]
  },
  {
   "cell_type": "code",
   "execution_count": 23,
   "id": "c9641a84",
   "metadata": {},
   "outputs": [
    {
     "data": {
      "text/plain": [
       "(2, 128)"
      ]
     },
     "execution_count": 23,
     "metadata": {},
     "output_type": "execute_result"
    }
   ],
   "source": [
    "label_ids.shape"
   ]
  },
  {
   "cell_type": "code",
   "execution_count": 27,
   "id": "c88afa5d",
   "metadata": {},
   "outputs": [
    {
     "data": {
      "text/plain": [
       "tensor(1.7043, grad_fn=<NllLossBackward>)"
      ]
     },
     "execution_count": 27,
     "metadata": {},
     "output_type": "execute_result"
    }
   ],
   "source": [
    "outputs[0]"
   ]
  },
  {
   "cell_type": "code",
   "execution_count": 28,
   "id": "c5bd151b",
   "metadata": {},
   "outputs": [],
   "source": [
    "predictions, true_labels = [], []"
   ]
  },
  {
   "cell_type": "code",
   "execution_count": 29,
   "id": "a2bab731",
   "metadata": {},
   "outputs": [],
   "source": [
    "predictions.extend([list(p) for p in np.argmax(logits, axis=2)])"
   ]
  },
  {
   "cell_type": "code",
   "execution_count": 36,
   "id": "870b9963",
   "metadata": {},
   "outputs": [],
   "source": [
    "true_labels.extend(label_ids)"
   ]
  },
  {
   "cell_type": "code",
   "execution_count": 37,
   "id": "43e64288",
   "metadata": {},
   "outputs": [
    {
     "data": {
      "text/plain": [
       "[array([4, 4, 4, 4, 4, 4, 4, 4, 4, 0, 5, 5, 5, 5, 5, 5, 5, 5, 5, 5, 5, 5,\n",
       "        5, 5, 5, 5, 5, 5, 5, 5, 5, 5, 5, 5, 5, 5, 5, 5, 5, 5, 5, 5, 5, 5,\n",
       "        5, 5, 5, 5, 5, 5, 5, 5, 5, 5, 5, 5, 5, 5, 5, 5, 5, 5, 5, 5, 5, 5,\n",
       "        5, 5, 5, 5, 5, 5, 5, 5, 5, 5, 5, 5, 5, 5, 5, 5, 5, 5, 5, 5, 5, 5,\n",
       "        5, 5, 5, 5, 5, 5, 5, 5, 5, 5, 5, 5, 5, 5, 5, 5, 5, 5, 5, 5, 5, 5,\n",
       "        5, 5, 5, 5, 5, 5, 5, 5, 5, 5, 5, 5, 5, 5, 5, 5, 5, 5]),\n",
       " array([4, 4, 4, 4, 4, 4, 4, 0, 5, 5, 5, 5, 5, 5, 5, 5, 5, 5, 5, 5, 5, 5,\n",
       "        5, 5, 5, 5, 5, 5, 5, 5, 5, 5, 5, 5, 5, 5, 5, 5, 5, 5, 5, 5, 5, 5,\n",
       "        5, 5, 5, 5, 5, 5, 5, 5, 5, 5, 5, 5, 5, 5, 5, 5, 5, 5, 5, 5, 5, 5,\n",
       "        5, 5, 5, 5, 5, 5, 5, 5, 5, 5, 5, 5, 5, 5, 5, 5, 5, 5, 5, 5, 5, 5,\n",
       "        5, 5, 5, 5, 5, 5, 5, 5, 5, 5, 5, 5, 5, 5, 5, 5, 5, 5, 5, 5, 5, 5,\n",
       "        5, 5, 5, 5, 5, 5, 5, 5, 5, 5, 5, 5, 5, 5, 5, 5, 5, 5])]"
      ]
     },
     "execution_count": 37,
     "metadata": {},
     "output_type": "execute_result"
    }
   ],
   "source": [
    "true_labels"
   ]
  },
  {
   "cell_type": "code",
   "execution_count": 38,
   "id": "9e4622e2",
   "metadata": {},
   "outputs": [],
   "source": [
    "pred_tags = [tag_values[p_i] for p, l in zip(predictions, true_labels) for p_i, l_i in zip(p, l) if tag_values[l_i] != \"PAD\"]"
   ]
  },
  {
   "cell_type": "code",
   "execution_count": 41,
   "id": "c64c1cc9",
   "metadata": {},
   "outputs": [
    {
     "data": {
      "text/plain": [
       "['comma',\n",
       " 'PAD',\n",
       " 'viram',\n",
       " 'none',\n",
       " 'none',\n",
       " 'none',\n",
       " 'none',\n",
       " 'none ',\n",
       " 'comma',\n",
       " 'none ',\n",
       " 'comma',\n",
       " 'PAD',\n",
       " 'viram',\n",
       " 'none',\n",
       " 'none',\n",
       " 'none',\n",
       " 'none',\n",
       " 'none']"
      ]
     },
     "execution_count": 41,
     "metadata": {},
     "output_type": "execute_result"
    }
   ],
   "source": [
    "pred_tags"
   ]
  },
  {
   "cell_type": "code",
   "execution_count": 42,
   "id": "ae4772a6",
   "metadata": {},
   "outputs": [],
   "source": [
    "valid_tags = [tag_values[l_i] for l in true_labels for l_i in l if tag_values[l_i] != \"PAD\"]"
   ]
  },
  {
   "cell_type": "code",
   "execution_count": 43,
   "id": "77dfbdfc",
   "metadata": {},
   "outputs": [
    {
     "data": {
      "text/plain": [
       "['none',\n",
       " 'none',\n",
       " 'none',\n",
       " 'none',\n",
       " 'none',\n",
       " 'none',\n",
       " 'none',\n",
       " 'none',\n",
       " 'none',\n",
       " 'viram',\n",
       " 'none',\n",
       " 'none',\n",
       " 'none',\n",
       " 'none',\n",
       " 'none',\n",
       " 'none',\n",
       " 'none',\n",
       " 'viram']"
      ]
     },
     "execution_count": 43,
     "metadata": {},
     "output_type": "execute_result"
    }
   ],
   "source": [
    "valid_tags"
   ]
  },
  {
   "cell_type": "code",
   "execution_count": 51,
   "id": "993d925e",
   "metadata": {},
   "outputs": [
    {
     "name": "stdout",
     "output_type": "stream",
     "text": [
      "Validation Accuracy: 0.4444444444444444\n"
     ]
    }
   ],
   "source": [
    "print(\"Validation Accuracy: {}\".format(metrics.accuracy_score(pred_tags, valid_tags)))"
   ]
  },
  {
   "cell_type": "code",
   "execution_count": 59,
   "id": "aa9cbfce",
   "metadata": {},
   "outputs": [
    {
     "name": "stdout",
     "output_type": "stream",
     "text": [
      "Validation F1-Score: 0.128\n"
     ]
    }
   ],
   "source": [
    "print(\"Validation F1-Score: {}\".format(metrics.f1_score(pred_tags, valid_tags, average='macro')))"
   ]
  },
  {
   "cell_type": "code",
   "execution_count": 62,
   "id": "1ef67520",
   "metadata": {},
   "outputs": [
    {
     "name": "stderr",
     "output_type": "stream",
     "text": [
      "/home/anirudh/miniconda3/envs/seq_label/lib/python3.8/site-packages/sklearn/metrics/_classification.py:1245: UndefinedMetricWarning: Precision and F-score are ill-defined and being set to 0.0 in labels with no predicted samples. Use `zero_division` parameter to control this behavior.\n",
      "  _warn_prf(average, modifier, msg_start, len(result))\n",
      "/home/anirudh/miniconda3/envs/seq_label/lib/python3.8/site-packages/sklearn/metrics/_classification.py:1245: UndefinedMetricWarning: Precision and F-score are ill-defined and being set to 0.0 in labels with no predicted samples. Use `zero_division` parameter to control this behavior.\n",
      "  _warn_prf(average, modifier, msg_start, len(result))\n",
      "/home/anirudh/miniconda3/envs/seq_label/lib/python3.8/site-packages/sklearn/metrics/_classification.py:1245: UndefinedMetricWarning: Precision and F-score are ill-defined and being set to 0.0 in labels with no predicted samples. Use `zero_division` parameter to control this behavior.\n",
      "  _warn_prf(average, modifier, msg_start, len(result))\n"
     ]
    }
   ],
   "source": [
    "cl = metrics.classification_report(pred_tags, valid_tags, output_dict=True)"
   ]
  },
  {
   "cell_type": "code",
   "execution_count": 64,
   "id": "fad4adac",
   "metadata": {},
   "outputs": [
    {
     "data": {
      "text/plain": [
       "{'PAD': {'precision': 0.0, 'recall': 0.0, 'f1-score': 0.0, 'support': 2},\n",
       " 'comma': {'precision': 0.0, 'recall': 0.0, 'f1-score': 0.0, 'support': 3},\n",
       " 'none': {'precision': 0.5,\n",
       "  'recall': 0.8888888888888888,\n",
       "  'f1-score': 0.64,\n",
       "  'support': 9},\n",
       " 'none ': {'precision': 0.0, 'recall': 0.0, 'f1-score': 0.0, 'support': 2},\n",
       " 'viram': {'precision': 0.0, 'recall': 0.0, 'f1-score': 0.0, 'support': 2},\n",
       " 'accuracy': 0.4444444444444444,\n",
       " 'macro avg': {'precision': 0.1,\n",
       "  'recall': 0.17777777777777776,\n",
       "  'f1-score': 0.128,\n",
       "  'support': 18},\n",
       " 'weighted avg': {'precision': 0.25,\n",
       "  'recall': 0.4444444444444444,\n",
       "  'f1-score': 0.32,\n",
       "  'support': 18}}"
      ]
     },
     "execution_count": 64,
     "metadata": {},
     "output_type": "execute_result"
    }
   ],
   "source": [
    "cl"
   ]
  },
  {
   "cell_type": "code",
   "execution_count": 65,
   "id": "426bd393",
   "metadata": {},
   "outputs": [
    {
     "data": {
      "text/plain": [
       "{'precision': 0.0, 'recall': 0.0, 'f1-score': 0.0, 'support': 2}"
      ]
     },
     "execution_count": 65,
     "metadata": {},
     "output_type": "execute_result"
    }
   ],
   "source": [
    "cl['PAD']"
   ]
  },
  {
   "cell_type": "code",
   "execution_count": 66,
   "id": "f282a9e3",
   "metadata": {},
   "outputs": [
    {
     "data": {
      "text/plain": [
       "['viram', 'none ', 'comma', 'exclamation', 'none', 'PAD']"
      ]
     },
     "execution_count": 66,
     "metadata": {},
     "output_type": "execute_result"
    }
   ],
   "source": [
    "tag_values"
   ]
  },
  {
   "cell_type": "code",
   "execution_count": 4,
   "id": "21f43d0f",
   "metadata": {},
   "outputs": [],
   "source": [
    "state = torch.load('checkpoints/2021-04-21_09-14-08/checkpoint_last.pt')"
   ]
  },
  {
   "cell_type": "code",
   "execution_count": 5,
   "id": "3670aaf4",
   "metadata": {},
   "outputs": [
    {
     "data": {
      "text/plain": [
       "3"
      ]
     },
     "execution_count": 5,
     "metadata": {},
     "output_type": "execute_result"
    }
   ],
   "source": [
    "state['epoch']"
   ]
  },
  {
   "cell_type": "code",
   "execution_count": 6,
   "id": "20448361",
   "metadata": {},
   "outputs": [
    {
     "name": "stdout",
     "output_type": "stream",
     "text": [
      "3\n",
      "4\n",
      "5\n",
      "6\n",
      "7\n",
      "8\n",
      "9\n"
     ]
    }
   ],
   "source": [
    "for epoch in range(state['epoch'], 10):\n",
    "    print(epoch)"
   ]
  },
  {
   "cell_type": "code",
   "execution_count": null,
   "id": "b73cbca2",
   "metadata": {},
   "outputs": [],
   "source": []
  }
 ],
 "metadata": {
  "kernelspec": {
   "display_name": "Python 3",
   "language": "python",
   "name": "python3"
  },
  "language_info": {
   "codemirror_mode": {
    "name": "ipython",
    "version": 3
   },
   "file_extension": ".py",
   "mimetype": "text/x-python",
   "name": "python",
   "nbconvert_exporter": "python",
   "pygments_lexer": "ipython3",
   "version": "3.8.8"
  }
 },
 "nbformat": 4,
 "nbformat_minor": 5
}
