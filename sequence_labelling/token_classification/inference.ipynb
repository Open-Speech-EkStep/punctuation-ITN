{
 "cells": [
  {
   "cell_type": "code",
   "execution_count": 49,
   "id": "841b570a",
   "metadata": {},
   "outputs": [],
   "source": [
    "from dataset_loader import PunctuationDataset\n",
    "import pandas as pd\n",
    "import torch\n",
    "import training_params\n",
    "from tqdm import tqdm\n",
    "from seqeval.metrics import f1_score, accuracy_score\n",
    "from sklearn import metrics\n",
    "from transformers import AlbertForTokenClassification, AdamW, get_linear_schedule_with_warmup\n",
    "import numpy as np"
   ]
  },
  {
   "cell_type": "code",
   "execution_count": 10,
   "id": "93ad28de",
   "metadata": {},
   "outputs": [],
   "source": [
    "def process_data(data_csv):\n",
    "    df = pd.read_csv(data_csv)\n",
    "    sentences = df.groupby(\"sentence\")[\"word\"].apply(list).values\n",
    "    labels = df.groupby(\"sentence\")[\"label\"].apply(list).values\n",
    "    tag_values = list(set(df[\"label\"].values))\n",
    "    tag_values.append(\"PAD\")\n",
    "    encoder = {t: i for i, t in enumerate(tag_values)}\n",
    "    return sentences, labels, encoder, tag_values"
   ]
  },
  {
   "cell_type": "code",
   "execution_count": 11,
   "id": "bc31f280",
   "metadata": {},
   "outputs": [
    {
     "name": "stderr",
     "output_type": "stream",
     "text": [
      "Some weights of the model checkpoint at ai4bharat/indic-bert were not used when initializing AlbertForTokenClassification: ['predictions.bias', 'predictions.LayerNorm.weight', 'predictions.LayerNorm.bias', 'predictions.dense.weight', 'predictions.dense.bias', 'predictions.decoder.weight', 'predictions.decoder.bias', 'sop_classifier.classifier.weight', 'sop_classifier.classifier.bias']\n",
      "- This IS expected if you are initializing AlbertForTokenClassification from the checkpoint of a model trained on another task or with another architecture (e.g. initializing a BertForSequenceClassification model from a BertForPreTraining model).\n",
      "- This IS NOT expected if you are initializing AlbertForTokenClassification from the checkpoint of a model that you expect to be exactly identical (initializing a BertForSequenceClassification model from a BertForSequenceClassification model).\n",
      "Some weights of AlbertForTokenClassification were not initialized from the model checkpoint at ai4bharat/indic-bert and are newly initialized: ['classifier.weight', 'classifier.bias']\n",
      "You should probably TRAIN this model on a down-stream task to be able to use it for predictions and inference.\n"
     ]
    }
   ],
   "source": [
    "train_sentences, train_labels, train_encoder, tag_values = process_data(training_params.TRAIN_DATA)\n",
    "valid_sentences, valid_labels, _, _ = process_data(training_params.VALID_DATA)\n",
    "\n",
    "train_dataset = PunctuationDataset(texts=train_sentences, labels=train_labels,\n",
    "                                   tag2idx=train_encoder)\n",
    "valid_dataset = PunctuationDataset(texts=valid_sentences, labels=valid_labels,\n",
    "                                   tag2idx=train_encoder)\n",
    "\n",
    "train_data_loader = torch.utils.data.DataLoader(train_dataset, batch_size=training_params.BATCH_SIZE, num_workers=4)\n",
    "valid_data_loader = torch.utils.data.DataLoader(train_dataset, batch_size=training_params.BATCH_SIZE, num_workers=4)\n",
    "\n",
    "model = AlbertForTokenClassification.from_pretrained('ai4bharat/indic-bert',\n",
    "                                                     num_labels=len(train_encoder),\n",
    "                                                     output_attentions=False,\n",
    "                                                     output_hidden_states=False)"
   ]
  },
  {
   "cell_type": "code",
   "execution_count": 12,
   "id": "40f7e087",
   "metadata": {},
   "outputs": [],
   "source": [
    "eg = next(iter(train_data_loader))"
   ]
  },
  {
   "cell_type": "code",
   "execution_count": 14,
   "id": "e8831691",
   "metadata": {},
   "outputs": [],
   "source": [
    "b_input_ids, b_input_mask, b_labels = eg['ids'], eg['mask'], eg['target_tag']"
   ]
  },
  {
   "cell_type": "code",
   "execution_count": 15,
   "id": "f4aec4de",
   "metadata": {},
   "outputs": [],
   "source": [
    "outputs = model(b_input_ids, token_type_ids=None, attention_mask=b_input_mask, labels=b_labels)"
   ]
  },
  {
   "cell_type": "code",
   "execution_count": 21,
   "id": "61cf8f67",
   "metadata": {},
   "outputs": [],
   "source": [
    "logits = outputs[1].detach().cpu().numpy()\n",
    "label_ids = b_labels.to('cpu').numpy()"
   ]
  },
  {
   "cell_type": "code",
   "execution_count": 22,
   "id": "b08f139c",
   "metadata": {},
   "outputs": [
    {
     "data": {
      "text/plain": [
       "(2, 128, 6)"
      ]
     },
     "execution_count": 22,
     "metadata": {},
     "output_type": "execute_result"
    }
   ],
   "source": [
    "logits.shape"
   ]
  },
  {
   "cell_type": "code",
   "execution_count": 23,
   "id": "77624edd",
   "metadata": {},
   "outputs": [
    {
     "data": {
      "text/plain": [
       "(2, 128)"
      ]
     },
     "execution_count": 23,
     "metadata": {},
     "output_type": "execute_result"
    }
   ],
   "source": [
    "label_ids.shape"
   ]
  },
  {
   "cell_type": "code",
   "execution_count": 27,
   "id": "3935a77e",
   "metadata": {},
   "outputs": [
    {
     "data": {
      "text/plain": [
       "tensor(1.7043, grad_fn=<NllLossBackward>)"
      ]
     },
     "execution_count": 27,
     "metadata": {},
     "output_type": "execute_result"
    }
   ],
   "source": [
    "outputs[0]"
   ]
  },
  {
   "cell_type": "code",
   "execution_count": 28,
   "id": "ef593575",
   "metadata": {},
   "outputs": [],
   "source": [
    "predictions, true_labels = [], []"
   ]
  },
  {
   "cell_type": "code",
   "execution_count": 29,
   "id": "0505fe4e",
   "metadata": {},
   "outputs": [],
   "source": [
    "predictions.extend([list(p) for p in np.argmax(logits, axis=2)])"
   ]
  },
  {
   "cell_type": "code",
   "execution_count": 36,
   "id": "e54046a9",
   "metadata": {},
   "outputs": [],
   "source": [
    "true_labels.extend(label_ids)"
   ]
  },
  {
   "cell_type": "code",
   "execution_count": 37,
   "id": "00080300",
   "metadata": {},
   "outputs": [
    {
     "data": {
      "text/plain": [
       "[array([4, 4, 4, 4, 4, 4, 4, 4, 4, 0, 5, 5, 5, 5, 5, 5, 5, 5, 5, 5, 5, 5,\n",
       "        5, 5, 5, 5, 5, 5, 5, 5, 5, 5, 5, 5, 5, 5, 5, 5, 5, 5, 5, 5, 5, 5,\n",
       "        5, 5, 5, 5, 5, 5, 5, 5, 5, 5, 5, 5, 5, 5, 5, 5, 5, 5, 5, 5, 5, 5,\n",
       "        5, 5, 5, 5, 5, 5, 5, 5, 5, 5, 5, 5, 5, 5, 5, 5, 5, 5, 5, 5, 5, 5,\n",
       "        5, 5, 5, 5, 5, 5, 5, 5, 5, 5, 5, 5, 5, 5, 5, 5, 5, 5, 5, 5, 5, 5,\n",
       "        5, 5, 5, 5, 5, 5, 5, 5, 5, 5, 5, 5, 5, 5, 5, 5, 5, 5]),\n",
       " array([4, 4, 4, 4, 4, 4, 4, 0, 5, 5, 5, 5, 5, 5, 5, 5, 5, 5, 5, 5, 5, 5,\n",
       "        5, 5, 5, 5, 5, 5, 5, 5, 5, 5, 5, 5, 5, 5, 5, 5, 5, 5, 5, 5, 5, 5,\n",
       "        5, 5, 5, 5, 5, 5, 5, 5, 5, 5, 5, 5, 5, 5, 5, 5, 5, 5, 5, 5, 5, 5,\n",
       "        5, 5, 5, 5, 5, 5, 5, 5, 5, 5, 5, 5, 5, 5, 5, 5, 5, 5, 5, 5, 5, 5,\n",
       "        5, 5, 5, 5, 5, 5, 5, 5, 5, 5, 5, 5, 5, 5, 5, 5, 5, 5, 5, 5, 5, 5,\n",
       "        5, 5, 5, 5, 5, 5, 5, 5, 5, 5, 5, 5, 5, 5, 5, 5, 5, 5])]"
      ]
     },
     "execution_count": 37,
     "metadata": {},
     "output_type": "execute_result"
    }
   ],
   "source": [
    "true_labels"
   ]
  },
  {
   "cell_type": "code",
   "execution_count": 38,
   "id": "70f2484d",
   "metadata": {},
   "outputs": [],
   "source": [
    "pred_tags = [tag_values[p_i] for p, l in zip(predictions, true_labels) for p_i, l_i in zip(p, l) if tag_values[l_i] != \"PAD\"]"
   ]
  },
  {
   "cell_type": "code",
   "execution_count": 41,
   "id": "2c9ef642",
   "metadata": {},
   "outputs": [
    {
     "data": {
      "text/plain": [
       "['comma',\n",
       " 'PAD',\n",
       " 'viram',\n",
       " 'none',\n",
       " 'none',\n",
       " 'none',\n",
       " 'none',\n",
       " 'none ',\n",
       " 'comma',\n",
       " 'none ',\n",
       " 'comma',\n",
       " 'PAD',\n",
       " 'viram',\n",
       " 'none',\n",
       " 'none',\n",
       " 'none',\n",
       " 'none',\n",
       " 'none']"
      ]
     },
     "execution_count": 41,
     "metadata": {},
     "output_type": "execute_result"
    }
   ],
   "source": [
    "pred_tags"
   ]
  },
  {
   "cell_type": "code",
   "execution_count": 42,
   "id": "700c42a4",
   "metadata": {},
   "outputs": [],
   "source": [
    "valid_tags = [tag_values[l_i] for l in true_labels for l_i in l if tag_values[l_i] != \"PAD\"]"
   ]
  },
  {
   "cell_type": "code",
   "execution_count": 43,
   "id": "fa7e198d",
   "metadata": {},
   "outputs": [
    {
     "data": {
      "text/plain": [
       "['none',\n",
       " 'none',\n",
       " 'none',\n",
       " 'none',\n",
       " 'none',\n",
       " 'none',\n",
       " 'none',\n",
       " 'none',\n",
       " 'none',\n",
       " 'viram',\n",
       " 'none',\n",
       " 'none',\n",
       " 'none',\n",
       " 'none',\n",
       " 'none',\n",
       " 'none',\n",
       " 'none',\n",
       " 'viram']"
      ]
     },
     "execution_count": 43,
     "metadata": {},
     "output_type": "execute_result"
    }
   ],
   "source": [
    "valid_tags"
   ]
  },
  {
   "cell_type": "code",
   "execution_count": 51,
   "id": "a3045e60",
   "metadata": {},
   "outputs": [
    {
     "name": "stdout",
     "output_type": "stream",
     "text": [
      "Validation Accuracy: 0.4444444444444444\n"
     ]
    }
   ],
   "source": [
    "print(\"Validation Accuracy: {}\".format(metrics.accuracy_score(pred_tags, valid_tags)))"
   ]
  },
  {
   "cell_type": "code",
   "execution_count": 59,
   "id": "ad62004f",
   "metadata": {},
   "outputs": [
    {
     "name": "stdout",
     "output_type": "stream",
     "text": [
      "Validation F1-Score: 0.128\n"
     ]
    }
   ],
   "source": [
    "print(\"Validation F1-Score: {}\".format(metrics.f1_score(pred_tags, valid_tags, average='macro')))"
   ]
  },
  {
   "cell_type": "code",
   "execution_count": 58,
   "id": "221785a0",
   "metadata": {},
   "outputs": [
    {
     "name": "stderr",
     "output_type": "stream",
     "text": [
      "/home/anirudh/miniconda3/envs/seq_label/lib/python3.8/site-packages/sklearn/metrics/_classification.py:1245: UndefinedMetricWarning: Precision and F-score are ill-defined and being set to 0.0 in labels with no predicted samples. Use `zero_division` parameter to control this behavior.\n",
      "  _warn_prf(average, modifier, msg_start, len(result))\n",
      "/home/anirudh/miniconda3/envs/seq_label/lib/python3.8/site-packages/sklearn/metrics/_classification.py:1245: UndefinedMetricWarning: Precision and F-score are ill-defined and being set to 0.0 in labels with no predicted samples. Use `zero_division` parameter to control this behavior.\n",
      "  _warn_prf(average, modifier, msg_start, len(result))\n",
      "/home/anirudh/miniconda3/envs/seq_label/lib/python3.8/site-packages/sklearn/metrics/_classification.py:1245: UndefinedMetricWarning: Precision and F-score are ill-defined and being set to 0.0 in labels with no predicted samples. Use `zero_division` parameter to control this behavior.\n",
      "  _warn_prf(average, modifier, msg_start, len(result))\n"
     ]
    },
    {
     "data": {
      "text/plain": [
       "'              precision    recall  f1-score   support\\n\\n         PAD       0.00      0.00      0.00         2\\n       comma       0.00      0.00      0.00         3\\n        none       0.50      0.89      0.64         9\\n       none        0.00      0.00      0.00         2\\n       viram       0.00      0.00      0.00         2\\n\\n    accuracy                           0.44        18\\n   macro avg       0.10      0.18      0.13        18\\nweighted avg       0.25      0.44      0.32        18\\n'"
      ]
     },
     "execution_count": 58,
     "metadata": {},
     "output_type": "execute_result"
    }
   ],
   "source": [
    "metrics.classification_report(pred_tags, valid_tags)"
   ]
  },
  {
   "cell_type": "code",
   "execution_count": 55,
   "id": "d9da25f5",
   "metadata": {},
   "outputs": [
    {
     "data": {
      "text/plain": [
       "[2, 5, 0, 4, 4, 4, 4, 1, 2, 1, 2, 5, 0, 4, 4, 4, 4, 4]"
      ]
     },
     "execution_count": 55,
     "metadata": {},
     "output_type": "execute_result"
    }
   ],
   "source": []
  },
  {
   "cell_type": "code",
   "execution_count": null,
   "id": "6e75f12e",
   "metadata": {},
   "outputs": [],
   "source": []
  }
 ],
 "metadata": {
  "kernelspec": {
   "display_name": "Python 3",
   "language": "python",
   "name": "python3"
  },
  "language_info": {
   "codemirror_mode": {
    "name": "ipython",
    "version": 3
   },
   "file_extension": ".py",
   "mimetype": "text/x-python",
   "name": "python",
   "nbconvert_exporter": "python",
   "pygments_lexer": "ipython3",
   "version": "3.8.8"
  }
 },
 "nbformat": 4,
 "nbformat_minor": 5
}
