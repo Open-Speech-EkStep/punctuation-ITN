{
 "cells": [
  {
   "cell_type": "code",
   "execution_count": 34,
   "id": "4700f02d",
   "metadata": {},
   "outputs": [
    {
     "name": "stderr",
     "output_type": "stream",
     "text": [
      "Using TensorFlow backend.\n"
     ]
    }
   ],
   "source": [
    "import pandas as pd\n",
    "from sklearn import preprocessing\n",
    "from transformers import AlbertTokenizer, AlbertForTokenClassification\n",
    "from keras.preprocessing.sequence import pad_sequences"
   ]
  },
  {
   "cell_type": "code",
   "execution_count": 9,
   "id": "e0a90ca9",
   "metadata": {},
   "outputs": [],
   "source": [
    "def sentence_label_getter(data_csv):\n",
    "    df = pd.read_csv(data_csv, encoding='utf-8')\n",
    "    sentences = df.groupby(\"sentence\")[\"word\"].apply(list).values\n",
    "    labels = df.groupby(\"sentence\")[\"label\"].apply(list).values\n",
    "    return sentences, labels"
   ]
  },
  {
   "cell_type": "code",
   "execution_count": 10,
   "id": "77aad71b",
   "metadata": {},
   "outputs": [],
   "source": [
    "sentences, labels = sentence_label_getter('../input/train.csv')"
   ]
  },
  {
   "cell_type": "code",
   "execution_count": 11,
   "id": "1387e3fe",
   "metadata": {},
   "outputs": [
    {
     "data": {
      "text/plain": [
       "array([list(['म्यूरियल', 'अब', 'बीस', 'साल', 'की', 'हो', 'गई', 'है']),\n",
       "       list(['म्यूरियल', 'अब', 'बीस', 'साल', 'की', 'है']),\n",
       "       list(['मैं', 'इस', 'दुनिया', 'में', 'शिक्षा', 'पर', 'बहुत', 'निराश', 'हूँ']),\n",
       "       list(['वैसा', 'नही', 'होगा']),\n",
       "       list(['मुझें', 'तुम्हारी', 'याद', 'आ', 'रही', 'है']),\n",
       "       list(['तुम्हें', 'सोना', 'चाहिए']),\n",
       "       list(['आपको', 'सोना', 'चाहिए']),\n",
       "       list(['मुझे', 'जीव', 'विज्ञान', 'कभी', 'भी', 'पसंद', 'नहीं', 'था']),\n",
       "       list(['मैं', 'नहीं', 'हूँ', 'तुम', 'हो'])], dtype=object)"
      ]
     },
     "execution_count": 11,
     "metadata": {},
     "output_type": "execute_result"
    }
   ],
   "source": [
    "sentences"
   ]
  },
  {
   "cell_type": "code",
   "execution_count": 12,
   "id": "f98ff1f9",
   "metadata": {},
   "outputs": [
    {
     "data": {
      "text/plain": [
       "array([list(['none', 'none', 'none', 'none', 'none', 'none', 'none', 'viram']),\n",
       "       list(['none', 'none', 'none', 'none', 'none', 'viram']),\n",
       "       list(['none ', 'none', 'none', 'none', 'none', 'none', 'none', 'none', 'viram']),\n",
       "       list(['none ', 'none', 'viram']),\n",
       "       list(['none', 'none', 'none', 'none', 'none', 'viram']),\n",
       "       list(['none ', 'none', 'viram']), list(['none ', 'none', 'viram']),\n",
       "       list(['none ', 'none', 'none', 'none', 'none', 'none', 'none', 'viram']),\n",
       "       list(['none ', 'none', 'comma', 'none', 'exclamation'])],\n",
       "      dtype=object)"
      ]
     },
     "execution_count": 12,
     "metadata": {},
     "output_type": "execute_result"
    }
   ],
   "source": [
    "labels"
   ]
  },
  {
   "cell_type": "code",
   "execution_count": 14,
   "id": "cd508ec7",
   "metadata": {},
   "outputs": [],
   "source": [
    "df = pd.read_csv('../input/train.csv')\n",
    "tag_values = list(set(df[\"label\"].values))"
   ]
  },
  {
   "cell_type": "code",
   "execution_count": 16,
   "id": "34680716",
   "metadata": {},
   "outputs": [],
   "source": [
    "tag_values\n",
    "tag_values.append(\"PAD\")\n",
    "tag2idx = {t: i for i, t in enumerate(tag_values)}"
   ]
  },
  {
   "cell_type": "code",
   "execution_count": 17,
   "id": "d835276b",
   "metadata": {},
   "outputs": [
    {
     "data": {
      "text/plain": [
       "{'comma': 0, 'exclamation': 1, 'none': 2, 'viram': 3, 'none ': 4, 'PAD': 5}"
      ]
     },
     "execution_count": 17,
     "metadata": {},
     "output_type": "execute_result"
    }
   ],
   "source": [
    "tag2idx"
   ]
  },
  {
   "cell_type": "code",
   "execution_count": 20,
   "id": "5c29b0d9",
   "metadata": {},
   "outputs": [],
   "source": [
    "tokenizer = AlbertTokenizer.from_pretrained('ai4bharat/indic-bert')"
   ]
  },
  {
   "cell_type": "code",
   "execution_count": 35,
   "id": "67a1e574",
   "metadata": {},
   "outputs": [],
   "source": [
    "def tokenize_and_preserve_labels(sentence, text_labels):\n",
    "    tokenized_sentence = []\n",
    "    labels = []\n",
    "\n",
    "    for word, label in zip(sentence, text_labels):\n",
    "\n",
    "        # Tokenize the word and count # of subwords the word is broken into\n",
    "        tokenized_word = tokenizer.tokenize(word)\n",
    "        n_subwords = len(tokenized_word)\n",
    "\n",
    "        # Add the tokenized word to the final tokenized word list\n",
    "        tokenized_sentence.extend(tokenized_word)\n",
    "\n",
    "        # Add the same label to the new list of labels `n_subwords` times\n",
    "        labels.extend([label] * n_subwords)\n",
    "\n",
    "    return tokenized_sentence, labels"
   ]
  },
  {
   "cell_type": "code",
   "execution_count": 36,
   "id": "c60d13f0",
   "metadata": {},
   "outputs": [],
   "source": [
    "tokenized_texts_and_labels = [\n",
    "    tokenize_and_preserve_labels(sent, labs)\n",
    "    for sent, labs in zip(sentences, labels)\n",
    "]"
   ]
  },
  {
   "cell_type": "code",
   "execution_count": 37,
   "id": "88f7e35f",
   "metadata": {},
   "outputs": [
    {
     "data": {
      "text/plain": [
       "[(['▁म', 'यू', 'रियल', '▁अब', '▁बीस', '▁साल', '▁की', '▁हो', '▁गई', '▁है'],\n",
       "  ['none',\n",
       "   'none',\n",
       "   'none',\n",
       "   'none',\n",
       "   'none',\n",
       "   'none',\n",
       "   'none',\n",
       "   'none',\n",
       "   'none',\n",
       "   'none']),\n",
       " (['▁म', 'यू', 'रियल', '▁अब', '▁बीस', '▁साल', '▁की', '▁है'],\n",
       "  ['none', 'none', 'none', 'none', 'none', 'none', 'none', 'none']),\n",
       " (['▁मैं',\n",
       "   '▁इस',\n",
       "   '▁दुनिया',\n",
       "   '▁में',\n",
       "   '▁शिक',\n",
       "   'षा',\n",
       "   '▁पर',\n",
       "   '▁बहुत',\n",
       "   '▁निराश',\n",
       "   '▁हूँ'],\n",
       "  ['none ',\n",
       "   'none',\n",
       "   'none',\n",
       "   'none',\n",
       "   'none',\n",
       "   'none',\n",
       "   'none',\n",
       "   'none',\n",
       "   'none',\n",
       "   'none']),\n",
       " (['▁वैसा', '▁नही', '▁होगा'], ['none ', 'none', 'viram']),\n",
       " (['▁मुझे', 'ं', '▁तुम', 'हारी', '▁याद', '▁आ', '▁रही', '▁है'],\n",
       "  ['none', 'none', 'none', 'none', 'none', 'none', 'none', 'none']),\n",
       " (['▁तुम', 'हें', '▁सोना', '▁चाहिए'], ['none ', 'none ', 'none ', 'none']),\n",
       " (['▁आपको', '▁सोना', '▁चाहिए'], ['none ', 'none', 'viram']),\n",
       " (['▁मुझे', '▁जीव', '▁विज', 'ञ', 'ान', '▁कभी', '▁भी', '▁पसंद', '▁नहीं', '▁था'],\n",
       "  ['none ',\n",
       "   'none',\n",
       "   'none',\n",
       "   'none',\n",
       "   'none',\n",
       "   'none',\n",
       "   'none',\n",
       "   'none',\n",
       "   'none',\n",
       "   'none']),\n",
       " (['▁मैं', '▁नहीं', '▁हूँ', '▁तुम', '▁हो'],\n",
       "  ['none ', 'none', 'comma', 'none', 'exclamation'])]"
      ]
     },
     "execution_count": 37,
     "metadata": {},
     "output_type": "execute_result"
    }
   ],
   "source": [
    "tokenized_texts_and_labels"
   ]
  },
  {
   "cell_type": "code",
   "execution_count": 38,
   "id": "50f130cf",
   "metadata": {},
   "outputs": [],
   "source": [
    "tokenized_texts = [token_label_pair[0] for token_label_pair in tokenized_texts_and_labels]\n",
    "labels = [token_label_pair[1] for token_label_pair in tokenized_texts_and_labels]"
   ]
  },
  {
   "cell_type": "code",
   "execution_count": 39,
   "id": "ff9e8e2e",
   "metadata": {},
   "outputs": [
    {
     "data": {
      "text/plain": [
       "[['▁म', 'यू', 'रियल', '▁अब', '▁बीस', '▁साल', '▁की', '▁हो', '▁गई', '▁है'],\n",
       " ['▁म', 'यू', 'रियल', '▁अब', '▁बीस', '▁साल', '▁की', '▁है'],\n",
       " ['▁मैं',\n",
       "  '▁इस',\n",
       "  '▁दुनिया',\n",
       "  '▁में',\n",
       "  '▁शिक',\n",
       "  'षा',\n",
       "  '▁पर',\n",
       "  '▁बहुत',\n",
       "  '▁निराश',\n",
       "  '▁हूँ'],\n",
       " ['▁वैसा', '▁नही', '▁होगा'],\n",
       " ['▁मुझे', 'ं', '▁तुम', 'हारी', '▁याद', '▁आ', '▁रही', '▁है'],\n",
       " ['▁तुम', 'हें', '▁सोना', '▁चाहिए'],\n",
       " ['▁आपको', '▁सोना', '▁चाहिए'],\n",
       " ['▁मुझे', '▁जीव', '▁विज', 'ञ', 'ान', '▁कभी', '▁भी', '▁पसंद', '▁नहीं', '▁था'],\n",
       " ['▁मैं', '▁नहीं', '▁हूँ', '▁तुम', '▁हो']]"
      ]
     },
     "execution_count": 39,
     "metadata": {},
     "output_type": "execute_result"
    }
   ],
   "source": [
    "tokenized_texts"
   ]
  },
  {
   "cell_type": "code",
   "execution_count": 40,
   "id": "6bf6e714",
   "metadata": {},
   "outputs": [
    {
     "data": {
      "text/plain": [
       "[['none',\n",
       "  'none',\n",
       "  'none',\n",
       "  'none',\n",
       "  'none',\n",
       "  'none',\n",
       "  'none',\n",
       "  'none',\n",
       "  'none',\n",
       "  'none'],\n",
       " ['none', 'none', 'none', 'none', 'none', 'none', 'none', 'none'],\n",
       " ['none ',\n",
       "  'none',\n",
       "  'none',\n",
       "  'none',\n",
       "  'none',\n",
       "  'none',\n",
       "  'none',\n",
       "  'none',\n",
       "  'none',\n",
       "  'none'],\n",
       " ['none ', 'none', 'viram'],\n",
       " ['none', 'none', 'none', 'none', 'none', 'none', 'none', 'none'],\n",
       " ['none ', 'none ', 'none ', 'none'],\n",
       " ['none ', 'none', 'viram'],\n",
       " ['none ',\n",
       "  'none',\n",
       "  'none',\n",
       "  'none',\n",
       "  'none',\n",
       "  'none',\n",
       "  'none',\n",
       "  'none',\n",
       "  'none',\n",
       "  'none'],\n",
       " ['none ', 'none', 'comma', 'none', 'exclamation']]"
      ]
     },
     "execution_count": 40,
     "metadata": {},
     "output_type": "execute_result"
    }
   ],
   "source": [
    "labels"
   ]
  },
  {
   "cell_type": "code",
   "execution_count": 41,
   "id": "24cfc564",
   "metadata": {},
   "outputs": [],
   "source": [
    "input_ids = pad_sequences([tokenizer.convert_tokens_to_ids(txt) for txt in tokenized_texts],\n",
    "                          maxlen=128, dtype=\"long\", value=0.0,\n",
    "                          truncating=\"post\", padding=\"post\")"
   ]
  },
  {
   "cell_type": "code",
   "execution_count": 44,
   "id": "e3f543a9",
   "metadata": {},
   "outputs": [],
   "source": [
    "tags = pad_sequences([[tag2idx.get(l) for l in lab] for lab in labels],\n",
    "                     maxlen=128, value=tag2idx[\"PAD\"], padding=\"post\",\n",
    "                     dtype=\"long\", truncating=\"post\")"
   ]
  },
  {
   "cell_type": "code",
   "execution_count": 45,
   "id": "29dff2b0",
   "metadata": {},
   "outputs": [],
   "source": [
    "attention_masks = [[float(i != 0.0) for i in ii] for ii in input_ids]"
   ]
  },
  {
   "cell_type": "code",
   "execution_count": 51,
   "id": "2c0d8062",
   "metadata": {},
   "outputs": [
    {
     "data": {
      "text/plain": [
       "array([  2092,   7148, 103940,    311,  36287,    379,     17,     91,\n",
       "          241,     16,      0,      0,      0,      0,      0,      0,\n",
       "            0,      0,      0,      0,      0,      0,      0,      0,\n",
       "            0,      0,      0,      0,      0,      0,      0,      0,\n",
       "            0,      0,      0,      0,      0,      0,      0,      0,\n",
       "            0,      0,      0,      0,      0,      0,      0,      0,\n",
       "            0,      0,      0,      0,      0,      0,      0,      0,\n",
       "            0,      0,      0,      0,      0,      0,      0,      0,\n",
       "            0,      0,      0,      0,      0,      0,      0,      0,\n",
       "            0,      0,      0,      0,      0,      0,      0,      0,\n",
       "            0,      0,      0,      0,      0,      0,      0,      0,\n",
       "            0,      0,      0,      0,      0,      0,      0,      0,\n",
       "            0,      0,      0,      0,      0,      0,      0,      0,\n",
       "            0,      0,      0,      0,      0,      0,      0,      0,\n",
       "            0,      0,      0,      0,      0,      0,      0,      0,\n",
       "            0,      0,      0,      0,      0,      0,      0,      0])"
      ]
     },
     "execution_count": 51,
     "metadata": {},
     "output_type": "execute_result"
    }
   ],
   "source": [
    "input_ids[0]"
   ]
  },
  {
   "cell_type": "code",
   "execution_count": 53,
   "id": "40cd70ad",
   "metadata": {},
   "outputs": [
    {
     "data": {
      "text/plain": [
       "[1.0,\n",
       " 1.0,\n",
       " 1.0,\n",
       " 1.0,\n",
       " 1.0,\n",
       " 1.0,\n",
       " 1.0,\n",
       " 1.0,\n",
       " 1.0,\n",
       " 1.0,\n",
       " 0.0,\n",
       " 0.0,\n",
       " 0.0,\n",
       " 0.0,\n",
       " 0.0,\n",
       " 0.0,\n",
       " 0.0,\n",
       " 0.0,\n",
       " 0.0,\n",
       " 0.0,\n",
       " 0.0,\n",
       " 0.0,\n",
       " 0.0,\n",
       " 0.0,\n",
       " 0.0,\n",
       " 0.0,\n",
       " 0.0,\n",
       " 0.0,\n",
       " 0.0,\n",
       " 0.0,\n",
       " 0.0,\n",
       " 0.0,\n",
       " 0.0,\n",
       " 0.0,\n",
       " 0.0,\n",
       " 0.0,\n",
       " 0.0,\n",
       " 0.0,\n",
       " 0.0,\n",
       " 0.0,\n",
       " 0.0,\n",
       " 0.0,\n",
       " 0.0,\n",
       " 0.0,\n",
       " 0.0,\n",
       " 0.0,\n",
       " 0.0,\n",
       " 0.0,\n",
       " 0.0,\n",
       " 0.0,\n",
       " 0.0,\n",
       " 0.0,\n",
       " 0.0,\n",
       " 0.0,\n",
       " 0.0,\n",
       " 0.0,\n",
       " 0.0,\n",
       " 0.0,\n",
       " 0.0,\n",
       " 0.0,\n",
       " 0.0,\n",
       " 0.0,\n",
       " 0.0,\n",
       " 0.0,\n",
       " 0.0,\n",
       " 0.0,\n",
       " 0.0,\n",
       " 0.0,\n",
       " 0.0,\n",
       " 0.0,\n",
       " 0.0,\n",
       " 0.0,\n",
       " 0.0,\n",
       " 0.0,\n",
       " 0.0,\n",
       " 0.0,\n",
       " 0.0,\n",
       " 0.0,\n",
       " 0.0,\n",
       " 0.0,\n",
       " 0.0,\n",
       " 0.0,\n",
       " 0.0,\n",
       " 0.0,\n",
       " 0.0,\n",
       " 0.0,\n",
       " 0.0,\n",
       " 0.0,\n",
       " 0.0,\n",
       " 0.0,\n",
       " 0.0,\n",
       " 0.0,\n",
       " 0.0,\n",
       " 0.0,\n",
       " 0.0,\n",
       " 0.0,\n",
       " 0.0,\n",
       " 0.0,\n",
       " 0.0,\n",
       " 0.0,\n",
       " 0.0,\n",
       " 0.0,\n",
       " 0.0,\n",
       " 0.0,\n",
       " 0.0,\n",
       " 0.0,\n",
       " 0.0,\n",
       " 0.0,\n",
       " 0.0,\n",
       " 0.0,\n",
       " 0.0,\n",
       " 0.0,\n",
       " 0.0,\n",
       " 0.0,\n",
       " 0.0,\n",
       " 0.0,\n",
       " 0.0,\n",
       " 0.0,\n",
       " 0.0,\n",
       " 0.0,\n",
       " 0.0,\n",
       " 0.0,\n",
       " 0.0,\n",
       " 0.0,\n",
       " 0.0,\n",
       " 0.0,\n",
       " 0.0,\n",
       " 0.0]"
      ]
     },
     "execution_count": 53,
     "metadata": {},
     "output_type": "execute_result"
    }
   ],
   "source": [
    "attention_masks[0]"
   ]
  },
  {
   "cell_type": "code",
   "execution_count": 56,
   "id": "a88f867d",
   "metadata": {},
   "outputs": [
    {
     "data": {
      "text/plain": [
       "[1.0,\n",
       " 1.0,\n",
       " 1.0,\n",
       " 1.0,\n",
       " 1.0,\n",
       " 1.0,\n",
       " 1.0,\n",
       " 1.0,\n",
       " 1.0,\n",
       " 1.0,\n",
       " 0.0,\n",
       " 0.0,\n",
       " 0.0,\n",
       " 0.0,\n",
       " 0.0,\n",
       " 0.0,\n",
       " 0.0,\n",
       " 0.0,\n",
       " 0.0,\n",
       " 0.0,\n",
       " 0.0,\n",
       " 0.0,\n",
       " 0.0,\n",
       " 0.0,\n",
       " 0.0,\n",
       " 0.0,\n",
       " 0.0,\n",
       " 0.0,\n",
       " 0.0,\n",
       " 0.0,\n",
       " 0.0,\n",
       " 0.0,\n",
       " 0.0,\n",
       " 0.0,\n",
       " 0.0,\n",
       " 0.0,\n",
       " 0.0,\n",
       " 0.0,\n",
       " 0.0,\n",
       " 0.0,\n",
       " 0.0,\n",
       " 0.0,\n",
       " 0.0,\n",
       " 0.0,\n",
       " 0.0,\n",
       " 0.0,\n",
       " 0.0,\n",
       " 0.0,\n",
       " 0.0,\n",
       " 0.0,\n",
       " 0.0,\n",
       " 0.0,\n",
       " 0.0,\n",
       " 0.0,\n",
       " 0.0,\n",
       " 0.0,\n",
       " 0.0,\n",
       " 0.0,\n",
       " 0.0,\n",
       " 0.0,\n",
       " 0.0,\n",
       " 0.0,\n",
       " 0.0,\n",
       " 0.0,\n",
       " 0.0,\n",
       " 0.0,\n",
       " 0.0,\n",
       " 0.0,\n",
       " 0.0,\n",
       " 0.0,\n",
       " 0.0,\n",
       " 0.0,\n",
       " 0.0,\n",
       " 0.0,\n",
       " 0.0,\n",
       " 0.0,\n",
       " 0.0,\n",
       " 0.0,\n",
       " 0.0,\n",
       " 0.0,\n",
       " 0.0,\n",
       " 0.0,\n",
       " 0.0,\n",
       " 0.0,\n",
       " 0.0,\n",
       " 0.0,\n",
       " 0.0,\n",
       " 0.0,\n",
       " 0.0,\n",
       " 0.0,\n",
       " 0.0,\n",
       " 0.0,\n",
       " 0.0,\n",
       " 0.0,\n",
       " 0.0,\n",
       " 0.0,\n",
       " 0.0,\n",
       " 0.0,\n",
       " 0.0,\n",
       " 0.0,\n",
       " 0.0,\n",
       " 0.0,\n",
       " 0.0,\n",
       " 0.0,\n",
       " 0.0,\n",
       " 0.0,\n",
       " 0.0,\n",
       " 0.0,\n",
       " 0.0,\n",
       " 0.0,\n",
       " 0.0,\n",
       " 0.0,\n",
       " 0.0,\n",
       " 0.0,\n",
       " 0.0,\n",
       " 0.0,\n",
       " 0.0,\n",
       " 0.0,\n",
       " 0.0,\n",
       " 0.0,\n",
       " 0.0,\n",
       " 0.0,\n",
       " 0.0,\n",
       " 0.0,\n",
       " 0.0,\n",
       " 0.0,\n",
       " 0.0,\n",
       " 0.0]"
      ]
     },
     "execution_count": 56,
     "metadata": {},
     "output_type": "execute_result"
    }
   ],
   "source": [
    "[float(i !=0.0) for i in input_ids[0]]"
   ]
  },
  {
   "cell_type": "code",
   "execution_count": null,
   "id": "6e28fa01",
   "metadata": {},
   "outputs": [],
   "source": []
  }
 ],
 "metadata": {
  "kernelspec": {
   "display_name": "Python 3",
   "language": "python",
   "name": "python3"
  },
  "language_info": {
   "codemirror_mode": {
    "name": "ipython",
    "version": 3
   },
   "file_extension": ".py",
   "mimetype": "text/x-python",
   "name": "python",
   "nbconvert_exporter": "python",
   "pygments_lexer": "ipython3",
   "version": "3.8.8"
  }
 },
 "nbformat": 4,
 "nbformat_minor": 5
}
